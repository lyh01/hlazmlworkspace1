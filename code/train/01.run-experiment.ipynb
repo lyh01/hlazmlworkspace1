{
  "cells": [
    {
      "cell_type": "markdown",
      "source": [
        "Copyright (c) Microsoft Corporation. All rights reserved.\n",
        "\n",
        "Licensed under the MIT License."
      ],
      "metadata": {}
    },
    {
      "cell_type": "markdown",
      "source": [
        "## Introduction to Azure Machine Learning service: Run experiment\n",
        "\n",
        "In this example, you'll learn how to use Azure Machine Learning for experimentation.\n",
        "\n",
        "First, let's load your workspace and create an experiment. When you run *ws = Workspace.from_config()* below, you will be prompted to log in to your Azure subscription.. Once you are connected to your workspace in Azure cloud, you can start experimenting.\n",
        "\n",
        "The workspace is an Azure resource that contains your experiments, models, deployments and remote compute resources, and the experiment is a container that you use to track and organize your runs."
      ],
      "metadata": {}
    },
    {
      "cell_type": "code",
      "source": [
        "from azureml.core import Workspace, Experiment, Run\n",
        "import math, random, pickle"
      ],
      "outputs": [],
      "execution_count": 2,
      "metadata": {
        "gather": {
          "logged": 1612457850098
        }
      }
    },
    {
      "cell_type": "code",
      "source": [
        "ws = Workspace.from_config()"
      ],
      "outputs": [],
      "execution_count": 4,
      "metadata": {
        "gather": {
          "logged": 1612457916778
        }
      }
    },
    {
      "cell_type": "code",
      "source": [
        "experiment = Experiment(workspace = ws, name = \"my-python-juypter-experiment\")"
      ],
      "outputs": [],
      "execution_count": 5,
      "metadata": {
        "gather": {
          "logged": 1612457941224
        }
      }
    },
    {
      "cell_type": "markdown",
      "source": [
        "Next, let's start an experiment run. We use Monte Carlo simulation to estimate pi as a simple example. While the experiment is running, metrics about the accuracy of the estimate are logged into run history.\n",
        "\n",
        "Let's also save the value as a file into run history. In the next notebook we'll use this file to create a web service that computes an area of a circle using our estimate."
      ],
      "metadata": {}
    },
    {
      "cell_type": "code",
      "source": [
        "run = experiment.start_logging()\n",
        "\n",
        "pi_counter = 0\n",
        "n_iter = 100000\n",
        "\n",
        "# Log total number of iterations\n",
        "run.log(\"Number of iterations\",n_iter)\n",
        "\n",
        "for i in range(1,n_iter):\n",
        "    # Monte Carlo step to update estimate\n",
        "    x = random.random()\n",
        "    y = random.random()\n",
        "    if x*x + y*y < 1.0:\n",
        "        pi_counter += 1\n",
        "    pi_estimate = 4.0*pi_counter / i\n",
        "    \n",
        "    # Log convergence every 10000 iterations\n",
        "    if i%10000==0:\n",
        "        error = math.pi-pi_estimate\n",
        "        run.log(\"Pi estimate\",pi_estimate)\n",
        "        run.log(\"Error\",error)\n",
        "\n",
        "# Log final results\n",
        "run.log(\"Final estimate: \",pi_estimate)\n",
        "run.log(\"Final error: \",math.pi-pi_estimate)\n",
        "\n",
        "# Write file containing pi value into run history\n",
        "with open(\"pi_estimate.txt\",\"wb\") as f:\n",
        "    pickle.dump(str(pi_estimate),f)\n",
        "run.upload_file(name = 'outputs/pi_estimate.txt', path_or_stream = './pi_estimate.txt')\n",
        "\n",
        "# Complete tracking and get link to details\n",
        "run.complete()"
      ],
      "outputs": [],
      "execution_count": 6,
      "metadata": {
        "gather": {
          "logged": 1612457961017
        }
      }
    },
    {
      "cell_type": "markdown",
      "source": [
        "Once the run has completed, you can view a detailed report of the run from Azure Portal by simply calling \"run\" and following the link."
      ],
      "metadata": {}
    },
    {
      "cell_type": "code",
      "source": [
        "run"
      ],
      "outputs": [
        {
          "output_type": "execute_result",
          "execution_count": 7,
          "data": {
            "text/plain": "Run(Experiment: my-python-juypter-experiment,\nId: a0c0a6bc-5a12-4164-8ef2-498c27bea20c,\nType: None,\nStatus: Running)",
            "text/html": "<table style=\"width:100%\"><tr><th>Experiment</th><th>Id</th><th>Type</th><th>Status</th><th>Details Page</th><th>Docs Page</th></tr><tr><td>my-python-juypter-experiment</td><td>a0c0a6bc-5a12-4164-8ef2-498c27bea20c</td><td></td><td>Running</td><td><a href=\"https://ml.azure.com/experiments/my-python-juypter-experiment/runs/a0c0a6bc-5a12-4164-8ef2-498c27bea20c?wsid=/subscriptions/2e5fff2c-fb7d-4c24-965b-5f71a1b89d60/resourcegroups/hlazmlworkspace1-rsg1/workspaces/hlazmlworkspace1\" target=\"_blank\" rel=\"noopener\">Link to Azure Machine Learning studio</a></td><td><a href=\"https://docs.microsoft.com/en-us/python/api/azureml-core/azureml.core.run.Run?view=azure-ml-py\" target=\"_blank\" rel=\"noopener\">Link to Documentation</a></td></tr></table>"
          },
          "metadata": {}
        }
      ],
      "execution_count": 7,
      "metadata": {
        "gather": {
          "logged": 1612457975375
        }
      }
    },
    {
      "cell_type": "markdown",
      "source": [
        "Next, learn how to deploy a web service that computes the area of circle using your estimate using following Notebook:\n",
        "\n",
        "[Deploy web service](02.deploy-web-service.ipynb)"
      ],
      "metadata": {}
    },
    {
      "cell_type": "code",
      "source": [],
      "outputs": [],
      "execution_count": null,
      "metadata": {}
    }
  ],
  "metadata": {
    "authors": [
      {
        "name": "roastala"
      }
    ],
    "kernelspec": {
      "name": "python3-azureml",
      "language": "python",
      "display_name": "Python 3.6 - AzureML"
    },
    "language_info": {
      "name": "python",
      "version": "3.6.9",
      "mimetype": "text/x-python",
      "codemirror_mode": {
        "name": "ipython",
        "version": 3
      },
      "pygments_lexer": "ipython3",
      "nbconvert_exporter": "python",
      "file_extension": ".py"
    },
    "categories": [
      "quickstart"
    ],
    "kernel_info": {
      "name": "python3-azureml"
    },
    "nteract": {
      "version": "nteract-front-end@1.0.0"
    }
  },
  "nbformat": 4,
  "nbformat_minor": 2
}