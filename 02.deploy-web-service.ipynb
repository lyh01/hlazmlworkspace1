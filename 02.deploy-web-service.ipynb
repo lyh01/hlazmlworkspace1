{
    "cells":  [
                  {
                      "cell_type":  "markdown",
                      "metadata":  {

                                   },
                      "source":  [
                                     "Copyright (c) Microsoft Corporation. All rights reserved.\n",
                                     "\n",
                                     "Licensed under the MIT License."
                                 ]
                  },
                  {
                      "cell_type":  "markdown",
                      "metadata":  {

                                   },
                      "source":  [
                                     "## Introduction to Azure Machine Learning: Deploy web service\n",
                                     "\n",
                                     "In previous example, you ran an experiment to estimate value of pi. In this example, we\u0027ll go a step further and use your estimated value to create a web service that computes the area of a circle in a real time.\n",
                                     "\n",
                                     "First, let\u0027s load the workspace, and retrieve the latest run from your experiment."
                                 ]
                  },
                  {
                      "cell_type":  "code",
                      "execution_count":  null,
                      "metadata":  {

                                   },
                      "outputs":  [

                                  ],
                      "source":  [
                                     "from azureml.core import Workspace, Experiment, Run\n",
                                     "import math, random, pickle, json"
                                 ]
                  },
                  {
                      "cell_type":  "code",
                      "execution_count":  null,
                      "metadata":  {

                                   },
                      "outputs":  [

                                  ],
                      "source":  [
                                     "ws = Workspace.from_config()"
                                 ]
                  },
                  {
                      "cell_type":  "code",
                      "execution_count":  null,
                      "metadata":  {

                                   },
                      "outputs":  [

                                  ],
                      "source":  [
                                     "experiment_name = \"my-first-experiment\"\n",
                                     "run = list(Experiment(workspace = ws, name = experiment_name).get_runs())[0]"
                                 ]
                  },
                  {
                      "cell_type":  "markdown",
                      "metadata":  {

                                   },
                      "source":  [
                                     "In the previous example you saved a file containing the pi value into run history. Let\u0027s register that file as a model: a versioned asset in your workspace that is used to build web services."
                                 ]
                  },
                  {
                      "cell_type":  "code",
                      "execution_count":  null,
                      "metadata":  {

                                   },
                      "outputs":  [

                                  ],
                      "source":  [
                                     "model = run.register_model(model_name = \"pi_estimate\", model_path = \"outputs/pi_estimate.txt\")"
                                 ]
                  },
                  {
                      "cell_type":  "markdown",
                      "metadata":  {

                                   },
                      "source":  [
                                     "In order to deploy a web service, you\u0027ll also need to create a scoring script that consists of two parts: an *init* method that loads the model, and a *run* method that gets invoked when you call the web service."
                                 ]
                  },
                  {
                      "cell_type":  "code",
                      "execution_count":  null,
                      "metadata":  {

                                   },
                      "outputs":  [

                                  ],
                      "source":  [
                                     "%%writefile score.py\n",
                                     "import pickle, json\n",
                                     "from azureml.core.model import Model\n",
                                     "\n",
                                     "def init():\n",
                                     "    global pi_estimate\n",
                                     "    model_path = Model.get_model_path(model_name = \"pi_estimate\")\n",
                                     "    with open(model_path, \"rb\") as f:\n",
                                     "        pi_estimate = float(pickle.load(f))\n",
                                     "\n",
                                     "def run(raw_data):\n",
                                     "    try:\n",
                                     "        radius = json.loads(raw_data)[\"radius\"]\n",
                                     "        result = pi_estimate * radius**2\n",
                                     "        return json.dumps({\"area\": result})\n",
                                     "    except Exception as e:\n",
                                     "        result = str(e)\n",
                                     "        return json.dumps({\"error\": result})"
                                 ]
                  },
                  {
                      "cell_type":  "markdown",
                      "metadata":  {

                                   },
                      "source":  [
                                     "You also need to specify the library dependencies of your scoring script as conda yml file. Let\u0027s simply use Azure ML\u0027s default dependencies."
                                 ]
                  },
                  {
                      "cell_type":  "code",
                      "execution_count":  null,
                      "metadata":  {

                                   },
                      "outputs":  [

                                  ],
                      "source":  [
                                     "from azureml.core.conda_dependencies import CondaDependencies \n",
                                     "\n",
                                     "CondaDependencies().save_to_file(\".\", \"myenv.yml\")"
                                 ]
                  },
                  {
                      "cell_type":  "markdown",
                      "metadata":  {

                                   },
                      "source":  [
                                     "Then, let\u0027s deploy the web service on Azure Container Instance: a serverless compute for running Docker images. Azure ML service takes care of packaging your model, scoring script and dependencies into Docker image and deploying it."
                                 ]
                  },
                  {
                      "cell_type":  "code",
                      "execution_count":  null,
                      "metadata":  {

                                   },
                      "outputs":  [

                                  ],
                      "source":  [
                                     "from azureml.core.webservice import AciWebservice, Webservice\n",
                                     "from azureml.core.image import ContainerImage\n",
                                     "\n",
                                     "aci_config = AciWebservice.deploy_configuration(cpu_cores = 1, memory_gb = 1)\n",
                                     "\n",
                                     "\n",
                                     "image_config = ContainerImage.image_configuration(execution_script = \"score.py\", \n",
                                     "                                    runtime = \"python\", \n",
                                     "                                    conda_file = \"myenv.yml\")\n",
                                     "\n",
                                     "service = Webservice.deploy_from_model(name = \"area-calculator\",\n",
                                     "                                       deployment_config = aci_config,\n",
                                     "                                       models = [model],\n",
                                     "                                       image_config = image_config,\n",
                                     "                                       workspace = ws)\n",
                                     "service.wait_for_deployment(show_output = True)"
                                 ]
                  },
                  {
                      "cell_type":  "markdown",
                      "metadata":  {

                                   },
                      "source":  [
                                     "You can try out the web service by passing in data as json-formatted request. Run the cell below and move the slider around to see real-time responses."
                                 ]
                  },
                  {
                      "cell_type":  "code",
                      "execution_count":  null,
                      "metadata":  {

                                   },
                      "outputs":  [

                                  ],
                      "source":  [
                                     "from ipywidgets import interact\n",
                                     "\n",
                                     "def get_area(radius):\n",
                                     "    request = json.dumps({\"radius\": radius})\n",
                                     "    response = service.run(input_data = request)\n",
                                     "    return json.loads(response)[\"area\"]\n",
                                     "\n",
                                     "interact(get_area,radius=(0,10))"
                                 ]
                  },
                  {
                      "cell_type":  "markdown",
                      "metadata":  {

                                   },
                      "source":  [
                                     "Finally, delete the web service once you\u0027re done"
                                 ]
                  },
                  {
                      "cell_type":  "code",
                      "execution_count":  null,
                      "metadata":  {

                                   },
                      "outputs":  [

                                  ],
                      "source":  [
                                     "service.delete()"
                                 ]
                  },
                  {
                      "cell_type":  "markdown",
                      "metadata":  {

                                   },
                      "source":  [
                                     "As your next step, take a look at the more detailed tutorial for building an image classification model using Azure Machine Learning service."
                                 ]
                  },
                  {
                      "cell_type":  "code",
                      "execution_count":  null,
                      "metadata":  {

                                   },
                      "outputs":  [

                                  ],
                      "source":  [

                                 ]
                  }
              ],
    "metadata":  {
                     "authors":  [
                                     {
                                         "name":  "roastala"
                                     }
                                 ],
                     "kernelspec":  {
                                        "display_name":  "Python 3.6 - AzureML",
                                        "language":  "python",
                                        "name":  "python3-azureml"
                                    },
                     "language_info":  {
                                           "codemirror_mode":  {
                                                                   "name":  "ipython",
                                                                   "version":  3
                                                               },
                                           "file_extension":  ".py",
                                           "mimetype":  "text/x-python",
                                           "name":  "python",
                                           "nbconvert_exporter":  "python",
                                           "pygments_lexer":  "ipython3",
                                           "version":  "3.6.6"
                                       },
                     "categories":  [
                                        "quickstart"
                                    ]
                 },
    "nbformat":  4,
    "nbformat_minor":  2
}